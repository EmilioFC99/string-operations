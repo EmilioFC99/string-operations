{
 "cells": [
  {
   "cell_type": "code",
   "execution_count": 33,
   "metadata": {},
   "outputs": [],
   "source": [
    "import re"
   ]
  },
  {
   "cell_type": "code",
   "execution_count": 80,
   "metadata": {},
   "outputs": [],
   "source": [
    "def ipv4_address(address):\n",
    "    if len(address.split('.')) < 4 or len(address.split('.')) > 4: #si tiene menos o  mas de 4 numeros, adios\n",
    "        return False\n",
    "    else:\n",
    "        if re.search(r'[^\\d]|^0\\d+',number) or not number or int(number) > 255 in address.split('.'):\n",
    "            return print(False, number)\n",
    "        else:\n",
    "            return print(True, number)"
   ]
  },
  {
   "cell_type": "code",
   "execution_count": 83,
   "metadata": {},
   "outputs": [
    {
     "name": "stdout",
     "output_type": "stream",
     "text": [
      "True 256\n"
     ]
    }
   ],
   "source": [
    "ipv4_address(\"10.256.30.40\")"
   ]
  },
  {
   "cell_type": "code",
   "execution_count": null,
   "metadata": {},
   "outputs": [],
   "source": []
  }
 ],
 "metadata": {
  "kernelspec": {
   "display_name": "Python 3.7 (tensorflow)",
   "language": "python",
   "name": "tensorflow"
  },
  "language_info": {
   "codemirror_mode": {
    "name": "ipython",
    "version": 3
   },
   "file_extension": ".py",
   "mimetype": "text/x-python",
   "name": "python",
   "nbconvert_exporter": "python",
   "pygments_lexer": "ipython3",
   "version": "3.7.7"
  }
 },
 "nbformat": 4,
 "nbformat_minor": 4
}
