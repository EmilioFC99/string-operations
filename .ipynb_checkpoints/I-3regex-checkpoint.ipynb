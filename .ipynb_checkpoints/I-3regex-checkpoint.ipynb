{
 "cells": [
  {
   "cell_type": "code",
   "execution_count": 1,
   "metadata": {},
   "outputs": [
    {
     "data": {
      "text/plain": [
       "\"Once upon a midnight dreary, while I pondered, weak and weary,Over many a quaint and curious volume of forgotten lore—While I nodded, nearly napping, suddenly there came a tapping,As of some one gently rapping, rapping at my chamber door.'Tis some visitor,' I muttered, 'tapping at my chamber door—Only this and nothing more.'Ah, distinctly I remember it was in the bleak December;And each separate dying ember wrought its ghost upon the floor.Eagerly I wished the morrow;—vainly I had sought to borrowFrom my books surcease of sorrow—sorrow for the lost Lenore—For the rare and radiant maiden whom the angels name Lenore—Nameless here for evermore.\""
      ]
     },
     "execution_count": 1,
     "metadata": {},
     "output_type": "execute_result"
    }
   ],
   "source": [
    "import re\n",
    "\n",
    "poem = \"Once upon a midnight dreary, while I pondered, weak and weary,\" \\\n",
    "       \"Over many a quaint and curious volume of forgotten lore—\" \\\n",
    "       \"While I nodded, nearly napping, suddenly there came a tapping,\" \\\n",
    "       \"As of some one gently rapping, rapping at my chamber door.\" \\\n",
    "       \"'Tis some visitor,' I muttered, 'tapping at my chamber door—\" \\\n",
    "       \"Only this and nothing more.'\" \\\n",
    "       \"\" \\\n",
    "       \"Ah, distinctly I remember it was in the bleak December;\" \\\n",
    "       \"And each separate dying ember wrought its ghost upon the floor.\" \\\n",
    "       \"Eagerly I wished the morrow;—vainly I had sought to borrow\" \\\n",
    "       \"From my books surcease of sorrow—sorrow for the lost Lenore—\" \\\n",
    "       \"For the rare and radiant maiden whom the angels name Lenore—\" \\\n",
    "       \"Nameless here for evermore.\"\n",
    "\n",
    "poem"
   ]
  },
  {
   "cell_type": "code",
   "execution_count": null,
   "metadata": {
    "pycharm": {
     "name": "#%%\n"
    }
   },
   "outputs": [],
   "source": [
    "From r  Wed Oct 30 21:41:56 2002\n",
    "Return-Path: <james_ngola2002@maktoob.com>\n",
    "X-Sieve: cmu-sieve 2.0\n",
    "Return-Path: <james_ngola2002@maktoob.com>\n",
    "Message-Id: <200210310241.g9V2fNm6028281@cs.CU>\n",
    "From: \"MR. JAMES NGOLA.\" <james_ngola2002@maktoob.com>\n",
    "Reply-To: james_ngola2002@maktoob.com\n",
    "To: webmaster@aclweb.org\n",
    "Date: Thu, 31 Oct 2002 02:38:20 +0000\n",
    "Subject: URGENT BUSINESS ASSISTANCE AND PARTNERSHIP\n",
    "X-Mailer: Microsoft Outlook Express 5.00.2919.6900 DM\n",
    "MIME-Version: 1.0\n",
    "Content-Type: text/plain; charset=\"us-ascii\"\n",
    "Content-Transfer-Encoding: 8bit\n",
    "X-MIME-Autoconverted: from quoted-printable to 8bit by sideshowmel.si.UM id g9V2foW24311\n",
    "Status: O\n"
   ]
  },
  {
   "cell_type": "code",
   "execution_count": 7,
   "metadata": {
    "pycharm": {
     "name": "#%%\n"
    }
   },
   "outputs": [],
   "source": [
    "import re"
   ]
  },
  {
   "cell_type": "code",
   "execution_count": 9,
   "metadata": {
    "pycharm": {
     "name": "#%%\n"
    }
   },
   "outputs": [],
   "source": [
    "text = 'My neighbor, Mr. @ 😎 Rogeneighrs, has 5 55 dogs.'"
   ]
  },
  {
   "cell_type": "code",
   "execution_count": 10,
   "metadata": {
    "pycharm": {
     "name": "#%%\n"
    }
   },
   "outputs": [
    {
     "data": {
      "text/plain": [
       "['neigh', 'neigh']"
      ]
     },
     "execution_count": 10,
     "metadata": {},
     "output_type": "execute_result"
    }
   ],
   "source": [
    "re.findall('neigh', text)"
   ]
  },
  {
   "cell_type": "code",
   "execution_count": 15,
   "metadata": {
    "pycharm": {
     "name": "#%%\n"
    }
   },
   "outputs": [
    {
     "data": {
      "text/plain": [
       "30"
      ]
     },
     "execution_count": 15,
     "metadata": {},
     "output_type": "execute_result"
    }
   ],
   "source": [
    "letras_separadas = re.findall('[a-zA-Z]', text)\n",
    "letras_juntas = ''.join(letras_separadas)\n",
    "len(letras_juntas)"
   ]
  },
  {
   "cell_type": "code",
   "execution_count": 14,
   "metadata": {
    "pycharm": {
     "name": "#%%\n"
    }
   },
   "outputs": [
    {
     "data": {
      "text/plain": [
       "48"
      ]
     },
     "execution_count": 14,
     "metadata": {},
     "output_type": "execute_result"
    }
   ],
   "source": [
    "len(text)"
   ]
  },
  {
   "cell_type": "code",
   "execution_count": 17,
   "metadata": {
    "pycharm": {
     "name": "#%%\n"
    }
   },
   "outputs": [
    {
     "data": {
      "text/plain": [
       "' , . @ 😎 ,  5 55 .'"
      ]
     },
     "execution_count": 17,
     "metadata": {},
     "output_type": "execute_result"
    }
   ],
   "source": [
    "''.join(re.findall('[^a-zA-Z]', text))"
   ]
  },
  {
   "cell_type": "code",
   "execution_count": 20,
   "metadata": {
    "pycharm": {
     "name": "#%%\n"
    }
   },
   "outputs": [
    {
     "name": "stdout",
     "output_type": "stream",
     "text": [
      "     I have a tendency.\n",
      "to    leave    trailing\n",
      "spaces.       \n"
     ]
    }
   ],
   "source": [
    "espacios = \"\"\"     I have a tendency.\n",
    "to    leave    trailing\n",
    "spaces.       \"\"\"\n",
    "print(espacios)"
   ]
  },
  {
   "cell_type": "code",
   "execution_count": 33,
   "metadata": {
    "pycharm": {
     "name": "#%%\n"
    }
   },
   "outputs": [
    {
     "name": "stdout",
     "output_type": "stream",
     "text": [
      "I have a tendency. to leave trailing spaces.\n"
     ]
    }
   ],
   "source": [
    "print(re.sub('\\s+', ' ', espacios).strip())\n"
   ]
  },
  {
   "cell_type": "code",
   "execution_count": null,
   "metadata": {
    "pycharm": {
     "name": "#%%\n"
    }
   },
   "outputs": [],
   "source": [
    "\n"
   ]
  }
 ],
 "metadata": {
  "kernelspec": {
   "display_name": "Python 3",
   "language": "python",
   "name": "python3"
  },
  "language_info": {
   "codemirror_mode": {
    "name": "ipython",
    "version": 3
   },
   "file_extension": ".py",
   "mimetype": "text/x-python",
   "name": "python",
   "nbconvert_exporter": "python",
   "pygments_lexer": "ipython3",
   "version": "3.7.6"
  }
 },
 "nbformat": 4,
 "nbformat_minor": 1
}
