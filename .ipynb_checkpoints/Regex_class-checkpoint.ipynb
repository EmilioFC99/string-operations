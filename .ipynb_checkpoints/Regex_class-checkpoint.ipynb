{
 "cells": [
  {
   "cell_type": "markdown",
   "metadata": {},
   "source": [
    "https://regexone.com/lesson/"
   ]
  },
  {
   "cell_type": "code",
   "execution_count": 1,
   "metadata": {},
   "outputs": [],
   "source": [
    "import re #viene por default en python"
   ]
  },
  {
   "cell_type": "code",
   "execution_count": 2,
   "metadata": {},
   "outputs": [],
   "source": [
    "text = 'My neighbor, Mr. @ :gafas_de_sol: Rogeneighrs, has 5 55 dogs.'"
   ]
  },
  {
   "cell_type": "code",
   "execution_count": 3,
   "metadata": {},
   "outputs": [
    {
     "data": {
      "text/plain": [
       "['neigh', 'neigh']"
      ]
     },
     "execution_count": 3,
     "metadata": {},
     "output_type": "execute_result"
    }
   ],
   "source": [
    "    #metodo para encontrar algo en un texto.\n",
    "re.findall('neigh',text)\n",
    "#re.findall(patron, en donde) -> esto nos da todas los patrones que encuentra en texto en una LISTA\n",
    "            #^\n",
    "           #regex"
   ]
  },
  {
   "cell_type": "code",
   "execution_count": 16,
   "metadata": {},
   "outputs": [],
   "source": [
    "letras_juntas = ''.join(re.findall('[a-zA-z]',text)) #uneme todo sin espacios\n",
    "letras_separadas = re.findall('[a-zA-z]',text)"
   ]
  },
  {
   "cell_type": "code",
   "execution_count": 15,
   "metadata": {},
   "outputs": [
    {
     "data": {
      "text/plain": [
       "61"
      ]
     },
     "execution_count": 15,
     "metadata": {},
     "output_type": "execute_result"
    }
   ],
   "source": [
    "len(text)"
   ]
  },
  {
   "cell_type": "code",
   "execution_count": 17,
   "metadata": {},
   "outputs": [
    {
     "data": {
      "text/plain": [
       "[' ',\n",
       " ',',\n",
       " ' ',\n",
       " '.',\n",
       " ' ',\n",
       " '@',\n",
       " ' ',\n",
       " ':',\n",
       " '_',\n",
       " '_',\n",
       " ':',\n",
       " ' ',\n",
       " ',',\n",
       " ' ',\n",
       " ' ',\n",
       " '5',\n",
       " ' ',\n",
       " '5',\n",
       " '5',\n",
       " ' ',\n",
       " '.']"
      ]
     },
     "execution_count": 17,
     "metadata": {},
     "output_type": "execute_result"
    }
   ],
   "source": [
    "    #encontrar todos los caracteres que no sean texto\n",
    "re.findall('[^a-zA-Z]',text)"
   ]
  },
  {
   "cell_type": "code",
   "execution_count": 18,
   "metadata": {},
   "outputs": [],
   "source": [
    "    #substituir un patron\n",
    "espacios = \"\"\"     I have a tendency.\n",
    "to    leave    trailing \n",
    "spaces.       \"\"\""
   ]
  },
  {
   "cell_type": "code",
   "execution_count": 51,
   "metadata": {},
   "outputs": [
    {
     "name": "stdout",
     "output_type": "stream",
     "text": [
      "I have a tendency. to leave trailing spaces.\n"
     ]
    }
   ],
   "source": [
    "    # .sub(patron[regex], reemplazo[string], en donde[texto])\n",
    "espacios = re.sub(r'\\s+',' ',espacios).strip()\n",
    "# una expresion comun es utilizar r antes de declarar un patron para poder identificarq que es un regex ejemplo: r'\\s'\n",
    "print(espacios)"
   ]
  },
  {
   "cell_type": "code",
   "execution_count": 52,
   "metadata": {},
   "outputs": [
    {
     "name": "stdout",
     "output_type": "stream",
     "text": [
      "I have a tendency to leave trailing spaces.\n"
     ]
    }
   ],
   "source": [
    "espacios = re.sub(r'\\.\\s',' ',espacios)\n",
    "print(espacios)"
   ]
  },
  {
   "cell_type": "code",
   "execution_count": null,
   "metadata": {},
   "outputs": [],
   "source": []
  }
 ],
 "metadata": {
  "kernelspec": {
   "display_name": "Python 3.7 (tensorflow)",
   "language": "python",
   "name": "tensorflow"
  },
  "language_info": {
   "codemirror_mode": {
    "name": "ipython",
    "version": 3
   },
   "file_extension": ".py",
   "mimetype": "text/x-python",
   "name": "python",
   "nbconvert_exporter": "python",
   "pygments_lexer": "ipython3",
   "version": "3.7.7"
  }
 },
 "nbformat": 4,
 "nbformat_minor": 4
}
